{
  "nbformat": 4,
  "nbformat_minor": 0,
  "metadata": {
    "colab": {
      "provenance": []
    },
    "kernelspec": {
      "name": "python3",
      "display_name": "Python 3"
    },
    "accelerator": "GPU"
  },
  "cells": [
    {
      "cell_type": "markdown",
      "metadata": {
        "id": "6vFXgflvZ6Ga"
      },
      "source": [
        "## Assignment #2"
      ]
    },
    {
      "cell_type": "markdown",
      "metadata": {
        "id": "UevAU0CYVhiu"
      },
      "source": [
        "* Release date: 2023.10.11 Wed\n",
        "* Due date: **2023.10.18 Wed 23:59** (will not accept late submission)\n",
        "* Submission format: notebook file which can be executed in Colab environment\n",
        "* Weighting: 5% (total 50 pts)\n",
        "* You will build a multi-class classification model using Reuters dataset."
      ]
    },
    {
      "cell_type": "markdown",
      "metadata": {
        "id": "KxrhNNhWbfHD"
      },
      "source": [
        "> ### Loading and preprocessing data"
      ]
    },
    {
      "cell_type": "code",
      "metadata": {
        "id": "8E-2WLHgcAit"
      },
      "source": [
        "from tensorflow.keras.datasets import reuters\n",
        "\n",
        "# Like IMDB, the argument num_words restricts the data to\n",
        "# the 10,000 most frequently occurring words\n",
        "(train_data, train_labels), (test_data, test_labels) = reuters.load_data(num_words=10000)"
      ],
      "execution_count": 126,
      "outputs": []
    },
    {
      "cell_type": "markdown",
      "metadata": {
        "id": "U3EivNEoEKTF"
      },
      "source": [
        "* (10pts) Write the codes for preprocessing data\n",
        "  * For inputs, the data we have should be converted to binary vectors.\n",
        "  * For labels, determine an appropriate format by referring to the arguments of model.compile function below."
      ]
    },
    {
      "cell_type": "code",
      "metadata": {
        "id": "yrjD9AerdW4X"
      },
      "source": [
        "# write preprocessing codes\n",
        "\n",
        "import numpy as np\n",
        "\n",
        "def vectorize_sequences(sequences, dimension=10000):\n",
        "  results = np.zeros((len(sequences), dimension))\n",
        "  for i, sequence in enumerate(sequences):\n",
        "    results[i, sequence] = 1.\n",
        "  return results\n",
        "\n",
        "\n",
        "x_train = vectorize_sequences(train_data)\n",
        "x_test = vectorize_sequences(test_data)\n",
        "\n",
        "y_train = np.array(train_labels)\n",
        "y_test = np.array(test_labels)"
      ],
      "execution_count": 127,
      "outputs": []
    },
    {
      "cell_type": "markdown",
      "metadata": {
        "id": "yWfgUJiPeicE"
      },
      "source": [
        "> ### Building the network"
      ]
    },
    {
      "cell_type": "code",
      "metadata": {
        "id": "Edwc4GbneqKA"
      },
      "source": [
        "# Do not modify this block\n",
        "from tensorflow.keras import models\n",
        "from tensorflow.keras import layers\n",
        "\n",
        "model = models.Sequential()\n",
        "model.add(layers.Dense(64, activation='relu', input_shape=(10000,)))\n",
        "model.add(layers.Dense(64, activation='relu'))\n",
        "model.add(layers.Dense(46, activation='softmax'))"
      ],
      "execution_count": 128,
      "outputs": []
    },
    {
      "cell_type": "code",
      "metadata": {
        "id": "hxGWsKkdgAnq"
      },
      "source": [
        "# Do not modify this block\n",
        "model.compile(optimizer='rmsprop',\n",
        "              loss='sparse_categorical_crossentropy',\n",
        "              metrics=['accuracy'])"
      ],
      "execution_count": 129,
      "outputs": []
    },
    {
      "cell_type": "markdown",
      "metadata": {
        "id": "j0TUwiHLgI_-"
      },
      "source": [
        "> ### Validation"
      ]
    },
    {
      "cell_type": "markdown",
      "metadata": {
        "id": "KFe4FOkfgUII"
      },
      "source": [
        "* We employ *k-fold cross validation* as validation method of our model.\n",
        "* **(15pts)** Write a code in the below to perform *10-fold cross validation*.\n",
        "* **For each fold, save a model at every epoch in your Google Drive.**"
      ]
    },
    {
      "cell_type": "code",
      "source": [
        "from google.colab import drive\n",
        "\n",
        "drive.mount('/content/drive')"
      ],
      "metadata": {
        "colab": {
          "base_uri": "https://localhost:8080/"
        },
        "id": "CR8GIi5GCCLI",
        "outputId": "b3490b9b-60f9-4005-d590-e5079c5e9834"
      },
      "execution_count": 130,
      "outputs": [
        {
          "output_type": "stream",
          "name": "stdout",
          "text": [
            "Drive already mounted at /content/drive; to attempt to forcibly remount, call drive.mount(\"/content/drive\", force_remount=True).\n"
          ]
        }
      ]
    },
    {
      "cell_type": "code",
      "metadata": {
        "id": "jPWjg2s4WYfm",
        "colab": {
          "base_uri": "https://localhost:8080/"
        },
        "outputId": "34d32d87-e66f-47fb-f7f8-b3649c136472"
      },
      "source": [
        "# write a code for 10-fold cross validation here\n",
        "from keras import callbacks\n",
        "import numpy as np\n",
        "\n",
        "k = 10\n",
        "num_val_samples = len(x_train) // k\n",
        "num_epochs = 20\n",
        "\n",
        "acc_matrix = []\n",
        "val_acc_matrix = []\n",
        "\n",
        "for i in range(k):\n",
        "  print('processing fold #', i+1)\n",
        "  filepath = '/content/drive/My Drive/AI/assignment2/model.fold'+str(i)+'.{epoch:02d}.hdf5'\n",
        "  callback = callbacks.ModelCheckpoint(filepath)\n",
        "\n",
        "\n",
        "  # build model\n",
        "  model = models.Sequential()\n",
        "  model.add(layers.Dense(64, activation='relu', input_shape=(10000,)))\n",
        "  model.add(layers.Dense(64, activation='relu'))\n",
        "  model.add(layers.Dense(46, activation='softmax'))\n",
        "  model.compile(optimizer='rmsprop', loss='sparse_categorical_crossentropy', metrics=['accuracy'])\n",
        "\n",
        "\n",
        "  val_data = x_train[i*num_val_samples: (i+1)*num_val_samples]\n",
        "  val_targets = y_train[i*num_val_samples: (i+1)*num_val_samples]\n",
        "\n",
        "  partial_train_data = np.concatenate([x_train[:i*num_val_samples], x_train[(i+1)*num_val_samples:]],axis=0)\n",
        "  partial_train_targets = np.concatenate([y_train[:i*num_val_samples], y_train[(i+1)*num_val_samples:]], axis=0)\n",
        "\n",
        "  history = model.fit(partial_train_data, partial_train_targets, validation_data=(val_data, val_targets), callbacks = [callback], epochs=num_epochs,batch_size=128,  verbose=0)\n",
        "\n",
        "\n",
        "  #save accuracy\n",
        "  acc = history.history['accuracy']\n",
        "  val_acc = history.history['val_accuracy']\n",
        "\n",
        "  acc_matrix.append(acc)\n",
        "  val_acc_matrix.append(val_acc)"
      ],
      "execution_count": 131,
      "outputs": [
        {
          "output_type": "stream",
          "name": "stdout",
          "text": [
            "processing fold # 1\n",
            "processing fold # 2\n",
            "processing fold # 3\n",
            "processing fold # 4\n",
            "processing fold # 5\n",
            "processing fold # 6\n",
            "processing fold # 7\n",
            "processing fold # 8\n",
            "processing fold # 9\n",
            "processing fold # 10\n"
          ]
        }
      ]
    },
    {
      "cell_type": "markdown",
      "metadata": {
        "id": "X8908muCWdnG"
      },
      "source": [
        "* **(10pts)** Plotting the training and validation accuracy\n",
        "  * To obtain the validation accuracy at the end of every epoch, just average the performances of all folds."
      ]
    },
    {
      "cell_type": "code",
      "source": [
        "average_acc_history = [np.mean([x[i] for x in acc_matrix]) for i in range(num_epochs)]\n",
        "average_val_history = [np.mean([x[i] for x in val_acc_matrix]) for i in range(num_epochs)]"
      ],
      "metadata": {
        "id": "h62-a_nh-Eqj"
      },
      "execution_count": 132,
      "outputs": []
    },
    {
      "cell_type": "code",
      "metadata": {
        "id": "6PJb3RyXXZlC",
        "colab": {
          "base_uri": "https://localhost:8080/",
          "height": 507
        },
        "outputId": "e957c821-02f1-4dbe-810f-51b451db1d07"
      },
      "source": [
        "import matplotlib.pyplot as plt\n",
        "\n",
        "acc = history.history['accuracy']\n",
        "val_acc = history.history['val_accuracy']\n",
        "epochs = range(1, len(average_val_history) + 1)\n",
        "\n",
        "fig, axs = plt.subplots(1, 2, figsize=(12, 5))\n",
        "\n",
        "# Plot the training and validation accuracy on the first subplot\n",
        "axs[0].plot(epochs, average_acc_history, 'bo', label='Training acc')\n",
        "axs[0].plot(epochs, average_val_history, 'b', label='Validation acc')\n",
        "axs[0].set_title('Training and validation accuracy')\n",
        "axs[0].set_xlabel('Epochs')\n",
        "axs[0].set_ylabel('Accuracy')\n",
        "axs[0].legend()\n",
        "\n",
        "\n",
        "\n",
        "def smooth_curve(points, factor=0.9):\n",
        "    smoothed_points = []\n",
        "    for point in points:\n",
        "        if smoothed_points:\n",
        "            previous = smoothed_points[-1]\n",
        "            smoothed_points.append(previous * factor + point * (1 - factor))\n",
        "        else:\n",
        "            smoothed_points.append(point)\n",
        "    return smoothed_points\n",
        "\n",
        "average_acc_history = smooth_curve(average_acc_history)\n",
        "average_val_history = smooth_curve(average_val_history)\n",
        "\n",
        "# Plot the training and validation accuracy with smoothing on the second subplot\n",
        "axs[1].plot(epochs, average_acc_history, 'bo', label='Smoothed Training acc')\n",
        "axs[1].plot(epochs, average_val_history,'b',label='Smoothed Validation acc')\n",
        "axs[1].set_title('Training and validation accuracy with smoothing')\n",
        "axs[1].set_xlabel('Epochs')\n",
        "axs[1].set_ylabel('Validation')\n",
        "axs[1].legend()\n",
        "\n",
        "plt.tight_layout()\n",
        "plt.subplots_adjust(wspace=0.2) # Adjust space between subplots\n",
        "plt.show()"
      ],
      "execution_count": 133,
      "outputs": [
        {
          "output_type": "display_data",
          "data": {
            "text/plain": [
              "<Figure size 1200x500 with 2 Axes>"
            ],
            "image/png": "[encoded data removed]"
          },
          "metadata": {}
        }
      ]
    },
    {
      "cell_type": "markdown",
      "metadata": {
        "id": "pS0D5_0iXd_y"
      },
      "source": [
        "> ### Inference"
      ]
    },
    {
      "cell_type": "markdown",
      "metadata": {
        "id": "r9HNF524XkCy"
      },
      "source": [
        "* Find the best performance model (i.e., the best epoch showing the highest validation accuracy averaged over folds) by seeing the performance plot.\n",
        "* **(10pts)** Calculate the accuracy on test set using the 10 models at the best epoch.\n",
        "  * Here, you should use a majority voting method to get the prediction for a test data point.\n",
        "  * Specifically, given a test data point, get the predicted class from the trained model on each fold, and then decide the final predicted class by a majority voting.\n",
        "* **Do not retrain the model.**"
      ]
    },
    {
      "cell_type": "markdown",
      "source": [
        "###Find the best performance model:\n",
        "\n",
        "When looking at the 'Training and validation accuracy with smoothing' graph, we can see an intersection of training and validation accuracy curves approximately at epoch 7. This indicates that the model trained for 7 epochs could be considered an ideal model because it exhibits comparable accuracies for both training and validation phases at this stage."
      ],
      "metadata": {
        "id": "fkfyMBst-iDw"
      }
    },
    {
      "cell_type": "code",
      "metadata": {
        "id": "bhDWsnWuY5w-",
        "colab": {
          "base_uri": "https://localhost:8080/"
        },
        "outputId": "1b3206f7-a758-4e68-c10c-b8b3de04e3db"
      },
      "source": [
        "# Set best model from epoch 7\n",
        "pred_matrix = []\n",
        "test_len = len(test_labels)\n",
        "for i in range(10):\n",
        "  best_model_path = '/content/drive/My Drive/AI/assignment2/model.fold'+str(i)+'.07.hdf5'\n",
        "  best_model = models.load_model(best_model_path)\n",
        "\n",
        "  predictions = best_model.predict(x_test)\n",
        "  predictions = np.rint(predictions)\n",
        "  pred_matrix.append(np.argmax(predictions,axis =1))"
      ],
      "execution_count": 134,
      "outputs": [
        {
          "output_type": "stream",
          "name": "stdout",
          "text": [
            "71/71 [==============================] - 0s 2ms/step\n",
            "71/71 [==============================] - 0s 2ms/step\n",
            "71/71 [==============================] - 0s 2ms/step\n",
            "71/71 [==============================] - 0s 2ms/step\n",
            "71/71 [==============================] - 0s 3ms/step\n",
            "71/71 [==============================] - 0s 3ms/step\n",
            "71/71 [==============================] - 0s 2ms/step\n",
            "71/71 [==============================] - 0s 2ms/step\n",
            "71/71 [==============================] - 0s 2ms/step\n",
            "71/71 [==============================] - 0s 2ms/step\n"
          ]
        }
      ]
    },
    {
      "cell_type": "code",
      "source": [
        "def majority_voting(pred_matrix):\n",
        "  length = len(pred_matrix[0])\n",
        "  reshape_predict = np.array(pred_matrix)\n",
        "  reshape_predict = reshape_predict.reshape((length*10),order='F')\n",
        "  reshape_predict = reshape_predict.reshape((length,10))\n",
        "  vote_res = []\n",
        "\n",
        "  from collections import Counter\n",
        "\n",
        "  for i in range(length):\n",
        "    vote_res.append( Counter(reshape_predict[i]).most_common(1)[0][0] )\n",
        "\n",
        "  return vote_res\n",
        "\n",
        "\n",
        "result = majority_voting(pred_matrix)\n",
        "\n",
        "from sklearn.metrics import accuracy_score\n",
        "best_model_acc = accuracy_score(result,test_labels)\n",
        "print(best_model_acc)"
      ],
      "metadata": {
        "colab": {
          "base_uri": "https://localhost:8080/"
        },
        "id": "dn70Xd4l_U3X",
        "outputId": "d3b5daf0-f835-4a81-a89f-eba8e0e7fc43"
      },
      "execution_count": 135,
      "outputs": [
        {
          "output_type": "stream",
          "name": "stdout",
          "text": [
            "0.7622439893143366\n"
          ]
        }
      ]
    },
    {
      "cell_type": "markdown",
      "source": [
        "* **(5pts)** Compare the accuracy above with the performance from a single model at the best epoch from any fold, and discuss the difference between those accuracies."
      ],
      "metadata": {
        "id": "obtCSeosC9N7"
      }
    },
    {
      "cell_type": "code",
      "source": [
        "# find single best fold model at the best epoch\n",
        "best_fold=0\n",
        "best_acc=0\n",
        "for i in range(10):\n",
        "  best_model_path = '/content/drive/My Drive/AI/assignment2/model.fold'+str(i)+'.07.hdf5'\n",
        "  best_model = models.load_model(best_model_path)\n",
        "\n",
        "  predictions = best_model.predict(x_test)\n",
        "  predictions = np.rint(predictions)\n",
        "  result = np.argmax(predictions,axis =1)\n",
        "\n",
        "  fold_acc = accuracy_score(result,test_labels)\n",
        "  print('acc for fold %d: '%(i), fold_acc)\n",
        "\n",
        "  if fold_acc > best_acc:\n",
        "    best_fold=i\n",
        "    best_acc=fold_acc\n",
        "\n",
        "print('best_fold: ',best_fold)\n",
        "print('best_acc: ',best_acc)"
      ],
      "metadata": {
        "id": "Vn0-TYhQDDQZ",
        "colab": {
          "base_uri": "https://localhost:8080/"
        },
        "outputId": "663046af-1381-4b9f-d11a-bbd8cae9ad41"
      },
      "execution_count": 136,
      "outputs": [
        {
          "output_type": "stream",
          "name": "stdout",
          "text": [
            "71/71 [==============================] - 0s 2ms/step\n",
            "acc for fold 0:  0.7484416740872663\n",
            "71/71 [==============================] - 0s 2ms/step\n",
            "acc for fold 1:  0.7462154942119323\n",
            "71/71 [==============================] - 0s 2ms/step\n",
            "acc for fold 2:  0.7586821015138023\n",
            "71/71 [==============================] - 0s 2ms/step\n",
            "acc for fold 3:  0.7475512021371327\n",
            "71/71 [==============================] - 0s 2ms/step\n",
            "acc for fold 4:  0.7533392698130009\n",
            "71/71 [==============================] - 0s 2ms/step\n",
            "acc for fold 5:  0.748886910062333\n",
            "71/71 [==============================] - 0s 2ms/step\n",
            "acc for fold 6:  0.7475512021371327\n",
            "71/71 [==============================] - 0s 2ms/step\n",
            "acc for fold 7:  0.7524487978628673\n",
            "71/71 [==============================] - 0s 2ms/step\n",
            "acc for fold 8:  0.7537845057880677\n",
            "71/71 [==============================] - 0s 3ms/step\n",
            "acc for fold 9:  0.742653606411398\n",
            "best_fold:  2\n",
            "best_acc:  0.7586821015138023\n"
          ]
        }
      ]
    },
    {
      "cell_type": "code",
      "source": [
        "print('best acc from whole folds: ',best_model_acc)\n",
        "print('best acc from single fold: ', best_acc)"
      ],
      "metadata": {
        "colab": {
          "base_uri": "https://localhost:8080/"
        },
        "id": "adPp4spU_942",
        "outputId": "5475e8c4-3827-4bf4-adb9-0c0f275d5d41"
      },
      "execution_count": 137,
      "outputs": [
        {
          "output_type": "stream",
          "name": "stdout",
          "text": [
            "best acc from whole folds:  0.7622439893143366\n",
            "best acc from single fold:  0.7586821015138023\n"
          ]
        }
      ]
    },
    {
      "cell_type": "markdown",
      "source": [
        "###Compare the accuracy above with a single model at the best epoch from any fold:\n",
        "\n",
        "The best-performing model, which was trained for 7 epochs, reached an accuracy score of 0.7622.\n",
        "\n",
        "When considering each single fold at epoch 7, the top performing single model was from fold 2 with an accuracy score of 0.7587, which was the highest among all folds.\n",
        "\n",
        "These results indicate that despite high performance from a one-fold model, models trained across multiple folds tend to deliver marginally better results.\n",
        "\n",
        "Therefore, it is recommended to use a validation set and implement cross-validation when training models."
      ],
      "metadata": {
        "id": "h_D-FRWhAbSk"
      }
    }
  ]
}