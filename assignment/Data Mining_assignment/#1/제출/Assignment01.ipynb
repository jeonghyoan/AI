{
 "cells": [
  {
   "cell_type": "markdown",
   "metadata": {},
   "source": [
    "# 1. Apply a multiple linear regression on the given dataset\n",
    "\n",
    "## Variable list\n",
    "- M: percentage of males aged 14-24\n",
    "- So: whether it is in a Southern state. 1 for Yes, 0 for No.\n",
    "- Ed: mean years of schooling\n",
    "- Po1: police expenditure in 1960\n",
    "- Po2: police expenditure in 1959\n",
    "- LF: labour force participation rate\n",
    "- M.F: number of males per 1000 females\n",
    "- Pop: state population\n",
    "- NW: number of non-whites resident per 1000 people\n",
    "- U1: unemployment rate of urban males aged 14-24\n",
    "- U2: unemployment rate of urban males aged 35-39\n",
    "- GDP: gross domestic product per head\n",
    "- Ineq: income inequality\n",
    "- Prob: probability of imprisonment\n",
    "- Time: average time served in prisons\n",
    "- y: crime rate in an unspecified unit region (target)"
   ]
  },
  {
   "cell_type": "code",
   "execution_count": 55,
   "metadata": {},
   "outputs": [],
   "source": [
    "# packages and data import\n",
    "# DO NOT CHANGE THIS PART\n",
    "import pandas as pd\n",
    "import numpy as np\n",
    "from sklearn.linear_model import LinearRegression\n",
    "import matplotlib.pyplot as plt\n",
    "from scipy.stats import t, f, chi2, skew, kurtosis\n",
    "%matplotlib inline\n",
    "data=pd.read_csv('https://drive.google.com/uc?export=download&id=1ssBNxmds4zmmJbAHzJUB0_UyyfyMtoHT')"
   ]
  },
  {
   "cell_type": "markdown",
   "metadata": {},
   "source": [
    "(1) Find the top 5 input variables that show the high linear correlation with the target based on the correlation coefficient. "
   ]
  },
  {
   "cell_type": "code",
   "execution_count": 56,
   "metadata": {},
   "outputs": [
    {
     "data": {
      "text/plain": [
       "M      -0.089472\n",
       "So     -0.090637\n",
       "Ed      0.322835\n",
       "Po1     0.687604\n",
       "Po2     0.666714\n",
       "LF      0.188866\n",
       "M.F     0.213914\n",
       "Pop     0.337474\n",
       "NW      0.032599\n",
       "U1     -0.050478\n",
       "U2      0.177321\n",
       "GDP     0.441320\n",
       "Ineq   -0.179024\n",
       "Prob   -0.427422\n",
       "Time    0.149866\n",
       "y       1.000000\n",
       "Name: y, dtype: float64"
      ]
     },
     "execution_count": 56,
     "metadata": {},
     "output_type": "execute_result"
    }
   ],
   "source": [
    "data.corr()['y']"
   ]
  },
  {
   "cell_type": "markdown",
   "metadata": {},
   "source": [
    "(2) Draw pairwise scatter plot – one scatter plot illustrates the relationship between the input variable selected in Question (1) and output target "
   ]
  },
  {
   "cell_type": "code",
   "execution_count": 57,
   "metadata": {},
   "outputs": [
    {
     "data": {
      "text/plain": [
       "Text(0, 0.5, 'target(y)')"
      ]
     },
     "execution_count": 57,
     "metadata": {},
     "output_type": "execute_result"
    },
    {
     "data": {
      "image/png": "[encoded data removed]",
      "text/plain": [
       "<Figure size 432x288 with 1 Axes>"
      ]
     },
     "metadata": {
      "needs_background": "light"
     },
     "output_type": "display_data"
    }
   ],
   "source": [
    "plt.scatter(data['Prob'],data['y'])\n",
    "plt.xlabel('Prob')\n",
    "plt.ylabel(('target(y)'))"
   ]
  },
  {
   "cell_type": "markdown",
   "metadata": {},
   "source": [
    "(3) Train a linear regression model (M1) using the selected variables in Question (1) and fill the following table. "
   ]
  },
  {
   "cell_type": "code",
   "execution_count": 69,
   "metadata": {},
   "outputs": [
    {
     "name": "stdout",
     "output_type": "stream",
     "text": [
      "[0.01154114868544065, 0.036287873149948524, 0.2560814022759317, 0.2922747607879401, 0.04758909240270626, 0.06540028146571997]\n"
     ]
    }
   ],
   "source": [
    "X=data[['Po1','Po2','Pop','GDP','Prob']].values\n",
    "n,p=X.shape\n",
    "np.ones(n)\n",
    "X=np.c_[np.ones(n), X]\n",
    "XtX = np.matmul(X.T,X)\n",
    "inv_XtX=np.linalg.inv(XtX)\n",
    "beta = np.matmul(np.matmul(inv_XtX, X.T),data[['y']].values).flatten()\n",
    "\n",
    "y_pred = np.matmul(X, beta)\n",
    "y_true = data['y'].values\n",
    "SSE=np.sum((y_true-y_pred)**2)\n",
    "MSE = SSE/(n-p-1)\n",
    "\n",
    "se2_beta = MSE*inv_XtX\n",
    "\n",
    "t0=beta[0]/np.sqrt(se2_beta[0,0])\n",
    "t1=beta[1]/np.sqrt(se2_beta[1,1])\n",
    "t2=beta[2]/np.sqrt(se2_beta[2,2])\n",
    "t3=beta[3]/np.sqrt(se2_beta[3,3])\n",
    "t4=beta[4]/np.sqrt(se2_beta[4,4])\n",
    "t5=beta[5]/np.sqrt(se2_beta[5,5])\n",
    "\n",
    "ts = [t0,t1,t2,t3,t4,t5]\n",
    "\n",
    "tests = [t.cdf(np.abs(t0), n-p-1),t.cdf(np.abs(t1), n-p-1),t.cdf(np.abs(t2), n-p-1),t.cdf(np.abs(t3), n-p-1),t.cdf(np.abs(t4), n-p-1),t.cdf(np.abs(t5), n-p-1)]\n",
    "pvalues = [(1-tests[0])*2,(1-tests[1])*2,(1-tests[2])*2,(1-tests[3])*2,(1-tests[4])*2,(1-tests[5])*2]\n",
    "\n",
    "print(pvalues)"
   ]
  },
  {
   "cell_type": "markdown",
   "metadata": {},
   "source": [
    "(4) Calculate VIF for the variables of M1. Given that multicollinearity is severe when there is a variable with a VIF value of greater than 10, find the most reasonable way to get a better model based on the calculated VIF values.  "
   ]
  },
  {
   "cell_type": "code",
   "execution_count": 59,
   "metadata": {},
   "outputs": [
    {
     "data": {
      "text/plain": [
       "[1.5247804645690084,\n",
       " 80.34832161088916,\n",
       " 80.97531630356094,\n",
       " 1.5174252113126923,\n",
       " 3.264732309739124]"
      ]
     },
     "execution_count": 59,
     "metadata": {},
     "output_type": "execute_result"
    }
   ],
   "source": [
    "reg = LinearRegression()\n",
    "\n",
    "#Po1\n",
    "reg.fit(data[['Po2','Pop','GDP','Prob']], data['Po1'])\n",
    "r2_p1=reg.score(data[['Po2','Pop','GDP','Prob']], data['Po1'])\n",
    "vif_p1 = 1/(1-r2_p1)\n",
    "#Po2\n",
    "reg.fit(data[['Po1','Pop','GDP','Prob']], data['Po2'])\n",
    "r2_p2=reg.score(data[['Po1','Pop','GDP','Prob']], data['Po2'])\n",
    "vif_p2 = 1/(1-r2_p2)\n",
    "#Pop\n",
    "reg.fit(data[['Po1','Po2','GDP','Prob']], data['Pop'])\n",
    "r2_pp=reg.score(data[['Po1','Po2','GDP','Prob']], data['Pop'])\n",
    "vif_pp = 1/(1-r2_pp)\n",
    "#GDP\n",
    "reg.fit(data[['Po1','Po2','Pop','Prob']], data['GDP'])\n",
    "r2_g=reg.score(data[['Po1','Po2','Pop','Prob']], data['GDP'])\n",
    "vif_g = 1/(1-r2_g)\n",
    "#Prob\n",
    "reg.fit(data[['Po1','Po2','Pop','GDP']], data['Prob'])\n",
    "r2_e=reg.score(data[['Po1','Po2','Pop','GDP']], data['Prob'])\n",
    "vif_e = 1/(1-r2_e)\n",
    "\n",
    "vifs = [vif_e,vif_p1,vif_p2,vif_pp,vif_g]\n",
    "vifs"
   ]
  },
  {
   "cell_type": "markdown",
   "metadata": {},
   "source": [
    "(5) Based on the way you provide in Question (1), train a new regression model (M2) and fill the following table. "
   ]
  },
  {
   "cell_type": "code",
   "execution_count": 60,
   "metadata": {},
   "outputs": [
    {
     "name": "stdout",
     "output_type": "stream",
     "text": [
      "[1.5241998666647474, 3.438327737189884, 1.5126068580843406, 3.187329898579843]\n"
     ]
    }
   ],
   "source": [
    "Xm=data[['Po1','Pop','GDP','Prob']].values\n",
    "nm,pm=Xm.shape\n",
    "np.ones(nm)\n",
    "Xm=np.c_[np.ones(nm), Xm]\n",
    "XtXm = np.matmul(Xm.T,Xm)\n",
    "inv_XtXm=np.linalg.inv(XtXm)\n",
    "betam = np.matmul(np.matmul(inv_XtXm, Xm.T),data[['y']].values).flatten()\n",
    "\n",
    "\n",
    "y_predm = np.matmul(Xm, betam)\n",
    "y_truem = data['y'].values\n",
    "\n",
    "SSEm=np.sum((y_truem-y_predm)**2)\n",
    "MSEm = SSEm/(n-p-1)\n",
    "\n",
    "se2_betam = MSEm*inv_XtXm\n",
    "\n",
    "mt0=betam[0]/np.sqrt(se2_betam[0,0])\n",
    "mt1=betam[1]/np.sqrt(se2_betam[1,1])\n",
    "mt2=betam[2]/np.sqrt(se2_betam[2,2])\n",
    "mt3=betam[3]/np.sqrt(se2_betam[3,3])\n",
    "mt4=betam[4]/np.sqrt(se2_betam[4,4])\n",
    "tsm = [mt0,mt1,mt2,mt3,mt4]\n",
    "\n",
    "testsm = [t.cdf(np.abs(mt0), n-p-1),t.cdf(np.abs(mt1), n-p-1),t.cdf(np.abs(mt2), n-p-1),t.cdf(np.abs(mt3), n-p-1),t.cdf(np.abs(mt4), n-p-1)]\n",
    "pvaluesm = [(1-testsm[0])*2,(1-testsm[1])*2,(1-testsm[2])*2,(1-testsm[3])*2,(1-testsm[4])*2]\n",
    "\n",
    "\n",
    "\n",
    "#Po1\n",
    "reg.fit(data[['Pop','GDP','Prob']], data['Po1'])\n",
    "r2_em=reg.score(data[['Pop','GDP','Prob']], data['Po1'])\n",
    "vif_p2m = 1/(1-r2_em)\n",
    "#Pop\n",
    "reg.fit(data[['Po1','GDP','Prob']], data['Pop'])\n",
    "r2_pm=reg.score(data[['Po1','GDP','Prob']], data['Pop'])\n",
    "vif_pm = 1/(1-r2_pm)\n",
    "#GDP\n",
    "reg.fit(data[['Po1','Pop','Prob']], data['GDP'])\n",
    "r2_gm=reg.score(data[['Po1','Pop','Prob']], data['GDP'])\n",
    "vif_gm = 1/(1-r2_gm)\n",
    "#Prob\n",
    "reg.fit(data[['Po1','Pop','GDP']], data['Prob'])\n",
    "r2_em=reg.score(data[['Po1','Pop','GDP']], data['Prob'])\n",
    "vif_em = 1/(1-r2_em)\n",
    "\n",
    "vifsm = [vif_em,vif_p2m,vif_pm,vif_gm]\n",
    "\n",
    "print(vifsm)"
   ]
  },
  {
   "cell_type": "markdown",
   "metadata": {},
   "source": [
    "(7) Apply the F-test on M1 and M2 and explain the results. In addition, fill the following tables"
   ]
  },
  {
   "cell_type": "code",
   "execution_count": 61,
   "metadata": {},
   "outputs": [
    {
     "name": "stdout",
     "output_type": "stream",
     "text": [
      "12.460509831623249 9.071188887821435e-07\n"
     ]
    }
   ],
   "source": [
    "#M1\n",
    "X=data[['Po1','Po2','Pop','GDP', 'Prob']].values\n",
    "n,p=X.shape\n",
    "np.ones(n)\n",
    "X=np.c_[np.ones(n), X]\n",
    "XtX = np.matmul(X.T,X)\n",
    "inv_XtX=np.linalg.inv(XtX)\n",
    "beta = np.matmul(np.matmul(inv_XtX, X.T),data[['y']].values).flatten()\n",
    "\n",
    "y_pred = np.matmul(X, beta)\n",
    "y_true = data['y'].values\n",
    "\n",
    "SSR = np.sum((y_pred-np.mean(y_true))**2)\n",
    "SSE=np.sum((y_true-y_pred)**2)\n",
    "SST = np.sum((y_true -np.mean(y_true))**2)\n",
    "MSR = SSR/p\n",
    "MSE = SSE/(n-p-1)\n",
    "f0 = MSR/MSE\n",
    "f_cdf = f.cdf(f0,p,n-p-1)\n",
    "pvalue = 1-f_cdf\n",
    "\n",
    "\n",
    "\n",
    "#M2\n",
    "\n",
    "X=data[['Po1','Pop','GDP','Prob']].values\n",
    "n,p=X.shape\n",
    "np.ones(n)\n",
    "X=np.c_[np.ones(n), X]\n",
    "XtX = np.matmul(X.T,X)\n",
    "inv_XtX=np.linalg.inv(XtX)\n",
    "beta = np.matmul(np.matmul(inv_XtX, X.T),data[['y']].values).flatten()\n",
    "\n",
    "y_pred = np.matmul(X, beta)\n",
    "y_true = data['y'].values\n",
    "\n",
    "SSR = np.sum((y_pred-np.mean(y_true))**2)\n",
    "SSE=np.sum((y_true-y_pred)**2)\n",
    "SST = np.sum((y_true -np.mean(y_true))**2)\n",
    "MSR = SSR/p\n",
    "MSE = SSE/(n-p-1)\n",
    "f0 = MSR/MSE\n",
    "f_cdf = f.cdf(f0,p,n-p-1)\n",
    "pvalue = 1-f_cdf\n",
    "print(f0, pvalue)"
   ]
  },
  {
   "cell_type": "markdown",
   "metadata": {},
   "source": [
    "(8) Calculate R^2 and adjusted R^2 for M1 and M2. Then, compare two models. "
   ]
  },
  {
   "cell_type": "code",
   "execution_count": 62,
   "metadata": {},
   "outputs": [
    {
     "name": "stdout",
     "output_type": "stream",
     "text": [
      "0.5426930814254628 0.49914004156122116\n"
     ]
    }
   ],
   "source": [
    "#M1\n",
    "reg.fit(data[['Po1','Po2','Pop','GDP','Prob']], data['y'])\n",
    "r2=reg.score(data[['Po1','Po2','Pop','GDP','Prob']], data['y'])\n",
    "X=data[['Po1','Po2','Pop','GDP','Prob']].values\n",
    "n,p=X.shape\n",
    "\n",
    "R2=1-((n-1)/(n-p-1))*(1-r2)\n",
    "\n",
    "#M2\n",
    "\n",
    "reg.fit(data[['Po1','Pop','GDP','Prob']], data['y'])\n",
    "r2=reg.score(data[['Po1','Pop','GDP','Prob']], data['y'])\n",
    "X=data[['Po1','Pop','GDP','Prob']].values\n",
    "n,p=X.shape\n",
    "\n",
    "R2=1-((n-1)/(n-p-1))*(1-r2)\n",
    "\n",
    "print(r2, R2)"
   ]
  },
  {
   "cell_type": "markdown",
   "metadata": {},
   "source": [
    "(9) Calculate residuals of M1 and draw scatter plots to show relationship between one of the input variables and residuals. "
   ]
  },
  {
   "cell_type": "code",
   "execution_count": 63,
   "metadata": {},
   "outputs": [
    {
     "data": {
      "text/plain": [
       "Text(0, 0.5, 'Residuals')"
      ]
     },
     "execution_count": 63,
     "metadata": {},
     "output_type": "execute_result"
    },
    {
     "data": {
      "image/png": "[encoded data removed]",
      "text/plain": [
       "<Figure size 432x288 with 1 Axes>"
      ]
     },
     "metadata": {
      "needs_background": "light"
     },
     "output_type": "display_data"
    }
   ],
   "source": [
    "X=data[['Po1','Po2','Pop','GDP','Prob']].values\n",
    "reg.fit(data[['Po1','Po2','Pop','GDP','Prob']],data['y'])\n",
    "y_pred = reg.predict(data[['Po1','Po2','Pop','GDP','Prob']])\n",
    "error = data['y']-y_pred\n",
    "\n",
    "\n",
    "plt.scatter(data['Prob'],error)\n",
    "plt.xlabel('Prob')\n",
    "plt.ylabel(('Residuals'))"
   ]
  },
  {
   "cell_type": "markdown",
   "metadata": {},
   "source": [
    "(10) Do residuals of M1 and M2 follow the normal distribution based on the Jarque–Bera test? (significance level is 0.05). "
   ]
  },
  {
   "cell_type": "code",
   "execution_count": 64,
   "metadata": {},
   "outputs": [
    {
     "name": "stdout",
     "output_type": "stream",
     "text": [
      "0.7079936135930361\n",
      "0.42260579692838063\n"
     ]
    }
   ],
   "source": [
    "#M1\n",
    "X=data[['Po1','Po2','Pop','GDP','Prob']].values\n",
    "reg.fit(data[['Po1','Po2','Pop','GDP','Prob']],data['y'])\n",
    "y_pred = reg.predict(data[['Po1','Po2','Pop','GDP','Prob']])\n",
    "error = data['y']-y_pred\n",
    "\n",
    "S=skew(error)\n",
    "\n",
    "C=kurtosis(error, fisher=False)\n",
    "n, p = X.shape\n",
    "JB = (n-p)/6*(S**2+(C-3)**2/4)\n",
    "pvalue=1-chi2.cdf(JB, df=2)\n",
    "print(pvalue)\n",
    "\n",
    "#M2\n",
    "X=data[['Po1','Pop','GDP','Prob']].values\n",
    "reg.fit(data[['Po1','Pop','GDP','Prob']],data['y'])\n",
    "y_pred = reg.predict(data[['Po1','Pop','GDP','Prob']])\n",
    "error = data['y']-y_pred\n",
    "\n",
    "S=skew(error)\n",
    "\n",
    "C=kurtosis(error, fisher=False)\n",
    "n, p = X.shape\n",
    "JB = (n-p)/6*(S**2+(C-3)**2/4)\n",
    "pvalue=1-chi2.cdf(JB, df=2)\n",
    "print(pvalue)"
   ]
  },
  {
   "cell_type": "markdown",
   "metadata": {},
   "source": [
    "(11) Do residuals of M1 and M2 satisfy homoskedasticty based on the Breusch–Pagan test? (significance level is 0.05) "
   ]
  },
  {
   "cell_type": "code",
   "execution_count": 65,
   "metadata": {},
   "outputs": [
    {
     "name": "stdout",
     "output_type": "stream",
     "text": [
      "8.278723675925193e-06\n",
      "2.7261145944201814e-05\n"
     ]
    }
   ],
   "source": [
    "#M1\n",
    "X=data[['Po1','Po2','Pop','GDP','Prob']].values\n",
    "reg.fit(X, error**2)\n",
    "e2_pred = reg.predict(X)\n",
    "error_e2=error**2-e2_pred\n",
    "\n",
    "SSE=sum(error_e2**2)\n",
    "SSR=sum((e2_pred-np.mean(error**2))**2)\n",
    "\n",
    "n,p = X.shape\n",
    "MSE=SSE/(n-p-1)\n",
    "MSR=SSR/p\n",
    "\n",
    "f0 = MSR/MSE\n",
    "pvalue=1-f.cdf(f0,p,n-p-1)\n",
    "print(pvalue)\n",
    "#M2\n",
    "X=data[['Po1','Pop','GDP','Prob']].values\n",
    "reg.fit(X, error**2)\n",
    "e2_pred = reg.predict(X)\n",
    "error_e2=error**2-e2_pred\n",
    "\n",
    "SSE=sum(error_e2**2)\n",
    "SSR=sum((e2_pred-np.mean(error**2))**2)\n",
    "\n",
    "n,p = X.shape\n",
    "MSE=SSE/(n-p-1)\n",
    "MSR=SSR/p\n",
    "\n",
    "f0 = MSR/MSE\n",
    "pvalue=1-f.cdf(f0,p,n-p-1)\n",
    "print(pvalue)"
   ]
  },
  {
   "cell_type": "markdown",
   "metadata": {},
   "source": [
    "# 2. Logistic regression\n",
    "\n",
    "Using the MAGIC Gamma Telescope data set, build a classifier through logistic regression.\n",
    "\n",
    "The included variabes in this dataset are as follows. \n",
    "1. fLength: continuous # major axis of ellipse [mm] \n",
    "2. fWidth: continuous # minor axis of ellipse [mm] \n",
    "3. fSize: continuous # 10-log of sum of content of all pixels [in #phot] \n",
    "4. fConc: continuous # ratio of sum of two highest pixels over fSize [ratio] \n",
    "5. fConc1: continuous # ratio of highest pixel over fSize [ratio] \n",
    "6. fAsym: continuous # distance from highest pixel to center, projected onto major axis [mm] \n",
    "7. fM3Long: continuous # 3rd root of third moment along major axis [mm] \n",
    "8. fM3Trans: continuous # 3rd root of third moment along minor axis [mm] \n",
    "9. fAlpha: continuous # angle of major axis with vector to origin [deg] \n",
    "10. fDist: continuous # distance from origin to center of ellipse [mm] \n",
    "11. class: g,h # gamma (signal), hadron (background)\n",
    "    - g is treated as class 1 while h is treated as class 0"
   ]
  },
  {
   "cell_type": "code",
   "execution_count": 66,
   "metadata": {},
   "outputs": [],
   "source": [
    "import pandas as pd\n",
    "import numpy as np\n",
    "from sklearn.linear_model import LogisticRegression\n",
    "import matplotlib.pyplot as plt\n",
    "from sklearn.model_selection import train_test_split\n",
    "\n",
    "%matplotlib inline\n",
    "\n",
    "# data load\n",
    "magic=pd.read_csv('https://drive.google.com/uc?export=download&id=1AoCh22pmLHhdQtYdYUAJJqOCwF9obgVO', sep='\\t')\n",
    "\n",
    "X=magic[magic.columns[:-1]].values\n",
    "y=magic['class'].values\n",
    "\n",
    "# data partition\n",
    "trnX,valX,trnY,valY=train_test_split(X,y,test_size=0.2,random_state=10, stratify=y)\n",
    "# train_test_split: https://scikit-learn.org/stable/modules/generated/sklearn.model_selection.train_test_split.html"
   ]
  },
  {
   "cell_type": "markdown",
   "metadata": {},
   "source": [
    "(1) Using MAGIC Gamma Telescope data set, calculate accuracy with varying cutoff for the final decision. cutoff ∈{0.1,0.15,0.2,0.25,…,0.95}. Draw a line plot (x=cutoff, y=accuracy). For this problem, the model is trained using trnX and accuracy is calculated using valX."
   ]
  },
  {
   "cell_type": "code",
   "execution_count": 68,
   "metadata": {},
   "outputs": [
    {
     "data": {
      "text/plain": [
       "(0.0, 1.0, 0.7, 0.85)"
      ]
     },
     "execution_count": 68,
     "metadata": {},
     "output_type": "execute_result"
    },
    {
     "data": {
      "image/png": "[encoded data removed]",
      "text/plain": [
       "<Figure size 432x288 with 1 Axes>"
      ]
     },
     "metadata": {
      "needs_background": "light"
     },
     "output_type": "display_data"
    }
   ],
   "source": [
    "x=[0.1,0.15,0.2,0.25,0.3,0.35,0.4,0.45,0.5,0.55,0.6,0.65,0.7,0.75,0.8,0.85,0.9,0.95]\n",
    "yList=[]\n",
    "clf = LogisticRegression(max_iter=300)\n",
    "trnX,valX,trnY,valY=train_test_split(X,y,test_size=0.1,random_state=10, stratify=y)\n",
    "clf.fit(trnX,trnY)\n",
    "yList.append(clf.score(valX,valY))\n",
    "\n",
    "trnX,valX,trnY,valY=train_test_split(X,y,test_size=0.15,random_state=10, stratify=y)\n",
    "clf.fit(trnX,trnY)\n",
    "yList.append(clf.score(valX,valY))\n",
    "\n",
    "trnX,valX,trnY,valY=train_test_split(X,y,test_size=0.2,random_state=10, stratify=y)\n",
    "clf.fit(trnX,trnY)\n",
    "yList.append(clf.score(valX,valY))\n",
    "\n",
    "trnX,valX,trnY,valY=train_test_split(X,y,test_size=0.25,random_state=10, stratify=y)\n",
    "clf.fit(trnX,trnY)\n",
    "yList.append(clf.score(valX,valY))\n",
    "\n",
    "trnX,valX,trnY,valY=train_test_split(X,y,test_size=0.3,random_state=10, stratify=y)\n",
    "clf.fit(trnX,trnY)\n",
    "yList.append(clf.score(valX,valY))\n",
    "\n",
    "trnX,valX,trnY,valY=train_test_split(X,y,test_size=0.35,random_state=10, stratify=y)\n",
    "clf.fit(trnX,trnY)\n",
    "yList.append(clf.score(valX,valY))\n",
    "\n",
    "trnX,valX,trnY,valY=train_test_split(X,y,test_size=0.4,random_state=10, stratify=y)\n",
    "clf.fit(trnX,trnY)\n",
    "yList.append(clf.score(valX,valY))\n",
    "\n",
    "trnX,valX,trnY,valY=train_test_split(X,y,test_size=0.45,random_state=10, stratify=y)\n",
    "clf.fit(trnX,trnY)\n",
    "yList.append(clf.score(valX,valY))\n",
    "\n",
    "trnX,valX,trnY,valY=train_test_split(X,y,test_size=0.5,random_state=10, stratify=y)\n",
    "clf.fit(trnX,trnY)\n",
    "yList.append(clf.score(valX,valY))\n",
    "\n",
    "trnX,valX,trnY,valY=train_test_split(X,y,test_size=0.55,random_state=10, stratify=y)\n",
    "clf.fit(trnX,trnY)\n",
    "yList.append(clf.score(valX,valY))\n",
    "\n",
    "trnX,valX,trnY,valY=train_test_split(X,y,test_size=0.6,random_state=10, stratify=y)\n",
    "clf.fit(trnX,trnY)\n",
    "yList.append(clf.score(valX,valY))\n",
    "\n",
    "trnX,valX,trnY,valY=train_test_split(X,y,test_size=0.65,random_state=10, stratify=y)\n",
    "clf.fit(trnX,trnY)\n",
    "yList.append(clf.score(valX,valY))\n",
    "\n",
    "trnX,valX,trnY,valY=train_test_split(X,y,test_size=0.7,random_state=10, stratify=y)\n",
    "clf.fit(trnX,trnY)\n",
    "yList.append(clf.score(valX,valY))\n",
    "\n",
    "trnX,valX,trnY,valY=train_test_split(X,y,test_size=0.75,random_state=10, stratify=y)\n",
    "clf.fit(trnX,trnY)\n",
    "yList.append(clf.score(valX,valY))\n",
    "\n",
    "trnX,valX,trnY,valY=train_test_split(X,y,test_size=0.8,random_state=10, stratify=y)\n",
    "clf.fit(trnX,trnY)\n",
    "yList.append(clf.score(valX,valY))\n",
    "\n",
    "trnX,valX,trnY,valY=train_test_split(X,y,test_size=0.85,random_state=10, stratify=y)\n",
    "clf.fit(trnX,trnY)\n",
    "yList.append(clf.score(valX,valY))\n",
    "\n",
    "trnX,valX,trnY,valY=train_test_split(X,y,test_size=0.9,random_state=10, stratify=y)\n",
    "clf.fit(trnX,trnY)\n",
    "yList.append(clf.score(valX,valY))\n",
    "\n",
    "trnX,valX,trnY,valY=train_test_split(X,y,test_size=0.95,random_state=10, stratify=y)\n",
    "clf.fit(trnX,trnY)\n",
    "yList.append(clf.score(valX,valY))\n",
    "\n",
    "plt.plot(x,yList)\n",
    "plt.xlabel(\"cut-off\")\n",
    "plt.ylabel(\"accuracy\")\n",
    "plt.axis([0,1,0.7,0.85])"
   ]
  },
  {
   "cell_type": "code",
   "execution_count": null,
   "metadata": {},
   "outputs": [],
   "source": []
  }
 ],
 "metadata": {
  "kernelspec": {
   "display_name": "Python 3 (ipykernel)",
   "language": "python",
   "name": "python3"
  },
  "language_info": {
   "codemirror_mode": {
    "name": "ipython",
    "version": 3
   },
   "file_extension": ".py",
   "mimetype": "text/x-python",
   "name": "python",
   "nbconvert_exporter": "python",
   "pygments_lexer": "ipython3",
   "version": "3.8.12"
  }
 },
 "nbformat": 4,
 "nbformat_minor": 2
}
